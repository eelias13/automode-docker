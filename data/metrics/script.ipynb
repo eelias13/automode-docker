{
 "cells": [
  {
   "cell_type": "code",
   "execution_count": 4,
   "metadata": {},
   "outputs": [
    {
     "name": "stdout",
     "output_type": "stream",
     "text": [
      "[3.851239883799342, 3.044930976949296, 0.1201108982875778, 13.766803329853152, 11.543461875362864, 14.095534415750748, 7.3786478737262176, 12.676525409707384, 6.710191254104964, nan]\n",
      "[9.859358313359888, 7.649504759060845, 0.1232238005117554, 18.791218526945837, 43.257175664481714, 20.608143610115267, 14.123266855323063, 22.49764846897153, 11.85767449563552, nan]\n"
     ]
    }
   ],
   "source": [
    "import pandas as pd\n",
    "\n",
    "data = pd.read_csv(\"explorer_metics.csv\")\n",
    "\n",
    "mins = []\n",
    "for col in data.columns:\n",
    "    mins.append(data[col].min())\n",
    "\n",
    "maxs = []\n",
    "for col in data.columns:\n",
    "    print(col)\n",
    "    maxs.append(data[col].max())\n",
    "\n",
    "print(mins)\n",
    "print(maxs)"
   ]
  }
 ],
 "metadata": {
  "kernelspec": {
   "display_name": "Python 3",
   "language": "python",
   "name": "python3"
  },
  "language_info": {
   "codemirror_mode": {
    "name": "ipython",
    "version": 3
   },
   "file_extension": ".py",
   "mimetype": "text/x-python",
   "name": "python",
   "nbconvert_exporter": "python",
   "pygments_lexer": "ipython3",
   "version": "3.10.12"
  }
 },
 "nbformat": 4,
 "nbformat_minor": 2
}
